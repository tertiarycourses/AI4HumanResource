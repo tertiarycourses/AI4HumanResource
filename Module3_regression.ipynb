{
 "cells": [
  {
   "cell_type": "code",
   "execution_count": null,
   "metadata": {},
   "outputs": [],
   "source": [
    "# Step 0 import libraries\n",
    "\n",
    "import keras\n",
    "from keras.models import Sequential\n",
    "from keras.layers import Dense\n",
    "\n",
    "import pandas as pd\n",
    "from sklearn.preprocessing import MinMaxScaler"
   ]
  },
  {
   "cell_type": "code",
   "execution_count": 36,
   "metadata": {},
   "outputs": [],
   "source": [
    "# Step 1 Clean up the data\n",
    "\n",
    "training_data_df = pd.read_csv('sales_data_training.csv')\n",
    "\n",
    "scaler = MinMaxScaler(feature_range=(0,1))\n",
    "scaled_training = scaler.fit_transform(training_data_df)\n",
    "\n",
    "scaled_training_df=pd.DataFrame(scaled_training,columns=training_data_df.columns.values)\n",
    "\n",
    "# scaled_training_df.head(10)\n",
    "scaled_training_df.to_csv('sales_training_scaled.csv',index=False)\n",
    "\n",
    "a = scaler.scale_[8]\n",
    "b = scaler.min_[8]\n",
    "\n",
    "# print('Scaled by {:10f} and added by {:6f}'.format(scaler.scale_[8],scaler.min_[8]))\n"
   ]
  },
  {
   "cell_type": "code",
   "execution_count": 16,
   "metadata": {},
   "outputs": [],
   "source": [
    "X = scaled_training_df.drop('total_earnings',axis=1).values\n",
    "y = scaled_training_df[['total_earnings']].values\n"
   ]
  },
  {
   "cell_type": "code",
   "execution_count": 19,
   "metadata": {},
   "outputs": [],
   "source": [
    "# Step 2 Build the Model\n",
    "\n",
    "model = Sequential()\n",
    "model.add(Dense(50,input_dim=9,activation='relu'))\n",
    "model.add(Dense(100,activation='relu'))\n",
    "model.add(Dense(200,activation='relu'))\n",
    "model.add(Dense(1,activation='linear'))"
   ]
  },
  {
   "cell_type": "code",
   "execution_count": 21,
   "metadata": {},
   "outputs": [],
   "source": [
    "# Step 3 Compile the Model\n",
    "\n",
    "model.compile(loss=\"mean_squared_error\",optimizer=\"adam\")"
   ]
  },
  {
   "cell_type": "code",
   "execution_count": 22,
   "metadata": {},
   "outputs": [
    {
     "name": "stdout",
     "output_type": "stream",
     "text": [
      "Epoch 1/50\n",
      "1000/1000 [==============================] - 0s 283us/step - loss: 0.0151\n",
      "Epoch 2/50\n",
      "1000/1000 [==============================] - 0s 46us/step - loss: 0.0022\n",
      "Epoch 3/50\n",
      "1000/1000 [==============================] - 0s 48us/step - loss: 7.4991e-04\n",
      "Epoch 4/50\n",
      "1000/1000 [==============================] - 0s 45us/step - loss: 3.3514e-04\n",
      "Epoch 5/50\n",
      "1000/1000 [==============================] - 0s 43us/step - loss: 1.6106e-04\n",
      "Epoch 6/50\n",
      "1000/1000 [==============================] - 0s 52us/step - loss: 1.0373e-04\n",
      "Epoch 7/50\n",
      "1000/1000 [==============================] - 0s 56us/step - loss: 9.1222e-05\n",
      "Epoch 8/50\n",
      "1000/1000 [==============================] - 0s 49us/step - loss: 7.8442e-05\n",
      "Epoch 9/50\n",
      "1000/1000 [==============================] - 0s 49us/step - loss: 5.3535e-05\n",
      "Epoch 10/50\n",
      "1000/1000 [==============================] - 0s 44us/step - loss: 6.5748e-05\n",
      "Epoch 11/50\n",
      "1000/1000 [==============================] - 0s 50us/step - loss: 5.7174e-05\n",
      "Epoch 12/50\n",
      "1000/1000 [==============================] - 0s 46us/step - loss: 4.5890e-05\n",
      "Epoch 13/50\n",
      "1000/1000 [==============================] - 0s 48us/step - loss: 5.1245e-05\n",
      "Epoch 14/50\n",
      "1000/1000 [==============================] - 0s 45us/step - loss: 4.8366e-05\n",
      "Epoch 15/50\n",
      "1000/1000 [==============================] - 0s 47us/step - loss: 4.4725e-05\n",
      "Epoch 16/50\n",
      "1000/1000 [==============================] - 0s 44us/step - loss: 3.5791e-05\n",
      "Epoch 17/50\n",
      "1000/1000 [==============================] - 0s 45us/step - loss: 4.4070e-05\n",
      "Epoch 18/50\n",
      "1000/1000 [==============================] - 0s 41us/step - loss: 6.6018e-05\n",
      "Epoch 19/50\n",
      "1000/1000 [==============================] - 0s 48us/step - loss: 4.8479e-05\n",
      "Epoch 20/50\n",
      "1000/1000 [==============================] - 0s 42us/step - loss: 4.9455e-05\n",
      "Epoch 21/50\n",
      "1000/1000 [==============================] - 0s 42us/step - loss: 4.4470e-05\n",
      "Epoch 22/50\n",
      "1000/1000 [==============================] - 0s 46us/step - loss: 6.4898e-05\n",
      "Epoch 23/50\n",
      "1000/1000 [==============================] - 0s 49us/step - loss: 4.7915e-05\n",
      "Epoch 24/50\n",
      "1000/1000 [==============================] - 0s 50us/step - loss: 4.9074e-05\n",
      "Epoch 25/50\n",
      "1000/1000 [==============================] - 0s 62us/step - loss: 2.5567e-05\n",
      "Epoch 26/50\n",
      "1000/1000 [==============================] - 0s 53us/step - loss: 2.9495e-05\n",
      "Epoch 27/50\n",
      "1000/1000 [==============================] - 0s 52us/step - loss: 2.9081e-05\n",
      "Epoch 28/50\n",
      "1000/1000 [==============================] - 0s 53us/step - loss: 6.0483e-05\n",
      "Epoch 29/50\n",
      "1000/1000 [==============================] - 0s 57us/step - loss: 4.2524e-05\n",
      "Epoch 30/50\n",
      "1000/1000 [==============================] - 0s 47us/step - loss: 2.8210e-05\n",
      "Epoch 31/50\n",
      "1000/1000 [==============================] - 0s 60us/step - loss: 2.5485e-05\n",
      "Epoch 32/50\n",
      "1000/1000 [==============================] - 0s 49us/step - loss: 3.7422e-05\n",
      "Epoch 33/50\n",
      "1000/1000 [==============================] - 0s 61us/step - loss: 3.0703e-05\n",
      "Epoch 34/50\n",
      "1000/1000 [==============================] - 0s 57us/step - loss: 3.8126e-05\n",
      "Epoch 35/50\n",
      "1000/1000 [==============================] - 0s 60us/step - loss: 4.4737e-05\n",
      "Epoch 36/50\n",
      "1000/1000 [==============================] - 0s 61us/step - loss: 4.3950e-05\n",
      "Epoch 37/50\n",
      "1000/1000 [==============================] - 0s 53us/step - loss: 1.4644e-04\n",
      "Epoch 38/50\n",
      "1000/1000 [==============================] - 0s 58us/step - loss: 9.2935e-05\n",
      "Epoch 39/50\n",
      "1000/1000 [==============================] - 0s 46us/step - loss: 7.7163e-05\n",
      "Epoch 40/50\n",
      "1000/1000 [==============================] - 0s 42us/step - loss: 9.5842e-05\n",
      "Epoch 41/50\n",
      "1000/1000 [==============================] - 0s 46us/step - loss: 6.5936e-05\n",
      "Epoch 42/50\n",
      "1000/1000 [==============================] - 0s 43us/step - loss: 7.6028e-05\n",
      "Epoch 43/50\n",
      "1000/1000 [==============================] - 0s 42us/step - loss: 5.8838e-05\n",
      "Epoch 44/50\n",
      "1000/1000 [==============================] - 0s 47us/step - loss: 4.9547e-05\n",
      "Epoch 45/50\n",
      "1000/1000 [==============================] - 0s 48us/step - loss: 2.8509e-05\n",
      "Epoch 46/50\n",
      "1000/1000 [==============================] - 0s 42us/step - loss: 2.3192e-05\n",
      "Epoch 47/50\n",
      "1000/1000 [==============================] - 0s 44us/step - loss: 2.7415e-05\n",
      "Epoch 48/50\n",
      "1000/1000 [==============================] - 0s 50us/step - loss: 3.3779e-05\n",
      "Epoch 49/50\n",
      "1000/1000 [==============================] - 0s 47us/step - loss: 3.0799e-05\n",
      "Epoch 50/50\n",
      "1000/1000 [==============================] - 0s 45us/step - loss: 3.4561e-05\n"
     ]
    },
    {
     "data": {
      "text/plain": [
       "<keras.callbacks.History at 0x10808f940>"
      ]
     },
     "execution_count": 22,
     "metadata": {},
     "output_type": "execute_result"
    }
   ],
   "source": [
    "# Step 4: Traing te Model\n",
    "\n",
    "model.fit(X,y,epochs=50,shuffle=True)"
   ]
  },
  {
   "cell_type": "code",
   "execution_count": 24,
   "metadata": {},
   "outputs": [],
   "source": [
    "# Step 5 Evaluate the Model\n",
    "\n",
    "testing_data_df = pd.read_csv('sales_data_testing.csv')\n",
    "\n",
    "scaler = MinMaxScaler(feature_range=(0,1))\n",
    "scaled_testing = scaler.fit_transform(testing_data_df)\n",
    "\n",
    "scaled_testing_df=pd.DataFrame(scaled_testing,columns=testing_data_df.columns.values)\n",
    "\n",
    "# scaled_training_df.head(10)\n",
    "scaled_testing_df.to_csv('sales_testing_scaled.csv',index=False)"
   ]
  },
  {
   "cell_type": "code",
   "execution_count": 26,
   "metadata": {},
   "outputs": [
    {
     "name": "stdout",
     "output_type": "stream",
     "text": [
      "400/400 [==============================] - 0s 115us/step\n"
     ]
    },
    {
     "data": {
      "text/plain": [
       "0.0015051320660859346"
      ]
     },
     "execution_count": 26,
     "metadata": {},
     "output_type": "execute_result"
    }
   ],
   "source": [
    "X_test = scaled_testing_df.drop('total_earnings',axis=1).values\n",
    "y_test = scaled_testing_df[['total_earnings']].values\n",
    "\n",
    "model.evaluate(X_test,y_test)"
   ]
  },
  {
   "cell_type": "code",
   "execution_count": 27,
   "metadata": {},
   "outputs": [],
   "source": [
    "model.save('happy.h5')"
   ]
  },
  {
   "cell_type": "code",
   "execution_count": null,
   "metadata": {},
   "outputs": [],
   "source": []
  },
  {
   "cell_type": "code",
   "execution_count": 40,
   "metadata": {},
   "outputs": [
    {
     "data": {
      "text/plain": [
       "array([[ 74485.7  ],\n",
       "       [ 81587.55 ],\n",
       "       [136000.17 ],\n",
       "       [ 94591.016],\n",
       "       [102524.695],\n",
       "       [ 94831.83 ],\n",
       "       [222773.77 ],\n",
       "       [147913.11 ],\n",
       "       [139271.8  ]], dtype=float32)"
      ]
     },
     "execution_count": 40,
     "metadata": {},
     "output_type": "execute_result"
    }
   ],
   "source": [
    "prediction = model.predict(X_test)\n",
    "prediction = (prediction-b)/a\n",
    "prediction[1:10,:]"
   ]
  },
  {
   "cell_type": "code",
   "execution_count": 39,
   "metadata": {},
   "outputs": [
    {
     "data": {
      "text/plain": [
       "74485.69407045"
      ]
     },
     "execution_count": 39,
     "metadata": {},
     "output_type": "execute_result"
    }
   ],
   "source": [
    "# earning = (0.15944509-(-0.115913))/0.000004\n",
    "earning = (0.15944509-b)/a\n",
    "earning\n",
    "# Scaled by   0.000004 and added by -0.115913"
   ]
  },
  {
   "cell_type": "code",
   "execution_count": 33,
   "metadata": {},
   "outputs": [
    {
     "data": {
      "text/plain": [
       "68839.5225"
      ]
     },
     "execution_count": 33,
     "metadata": {},
     "output_type": "execute_result"
    }
   ],
   "source": []
  },
  {
   "cell_type": "code",
   "execution_count": null,
   "metadata": {},
   "outputs": [],
   "source": [
    "73960"
   ]
  }
 ],
 "metadata": {
  "kernelspec": {
   "display_name": "Python 3",
   "language": "python",
   "name": "python3"
  },
  "language_info": {
   "codemirror_mode": {
    "name": "ipython",
    "version": 3
   },
   "file_extension": ".py",
   "mimetype": "text/x-python",
   "name": "python",
   "nbconvert_exporter": "python",
   "pygments_lexer": "ipython3",
   "version": "3.6.5"
  }
 },
 "nbformat": 4,
 "nbformat_minor": 2
}

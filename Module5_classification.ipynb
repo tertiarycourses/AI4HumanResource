{
 "cells": [
  {
   "cell_type": "code",
   "execution_count": 64,
   "metadata": {},
   "outputs": [],
   "source": [
    "from sklearn import datasets\n",
    "iris = datasets.load_iris()\n",
    "X,y = iris.data, iris.target\n",
    "\n",
    "\n",
    "# Step 2: Preprocess Data - One Hot Encoding\n",
    "import numpy as np\n",
    "num_labels = len(np.unique(y))\n",
    "all_Y = np.eye(num_labels)[y]  # One liner trick!\n",
    "\n",
    "# from sklearn.model_selection import train_test_split\n",
    "X_train, X_test, y_train, y_test = train_test_split(X,all_Y,test_size=0.25,random_state=25)\n"
   ]
  },
  {
   "cell_type": "code",
   "execution_count": 65,
   "metadata": {},
   "outputs": [
    {
     "data": {
      "text/plain": [
       "(112, 3)"
      ]
     },
     "execution_count": 65,
     "metadata": {},
     "output_type": "execute_result"
    }
   ],
   "source": [
    "y_train.shape"
   ]
  },
  {
   "cell_type": "code",
   "execution_count": 71,
   "metadata": {},
   "outputs": [],
   "source": [
    "# from sklearn import datasets\n",
    "# iris = datasets.load_iris()\n",
    "# X,y = iris.data, iris.target\n",
    "\n",
    "import pandas as pd\n",
    "\n",
    "iris = pd.read_csv('iris.csv')\n",
    "iris.head(10)\n",
    "\n",
    "X = iris.drop('species',axis=1).values\n",
    "y = iris[['species']].values\n",
    "\n",
    "\n",
    "# Step 2: Preprocess Data - One Hot Encoding\n",
    "import numpy as np\n",
    "num_labels = len(np.unique(y))\n",
    "all_Y = np.eye(num_labels)[y]  # One liner trick!\n",
    "all_Y= np.squeeze(all_Y)\n",
    "\n",
    "# from sklearn.model_selection import train_test_split\n",
    "X_train, X_test, y_train, y_test = train_test_split(X,all_Y,test_size=0.25,random_state=25)\n",
    "\n"
   ]
  },
  {
   "cell_type": "code",
   "execution_count": 69,
   "metadata": {},
   "outputs": [
    {
     "data": {
      "text/plain": [
       "(112, 3)"
      ]
     },
     "execution_count": 69,
     "metadata": {},
     "output_type": "execute_result"
    }
   ],
   "source": [
    "y_train.shape"
   ]
  },
  {
   "cell_type": "code",
   "execution_count": 72,
   "metadata": {},
   "outputs": [
    {
     "name": "stdout",
     "output_type": "stream",
     "text": [
      "38/38 [==============================] - 0s 12ms/step\n",
      "Loss =  0.12785352139096512\n",
      "Accuracy  0.9210526284418608\n"
     ]
    }
   ],
   "source": [
    "import keras\n",
    "from keras.models import Sequential\n",
    "from keras.layers import Dense\n",
    "\n",
    "# Step 2: Build the Model\n",
    "model = Sequential()\n",
    "model.add(Dense(20, input_dim=4, activation='relu'))\n",
    "model.add(Dense(10, activation='relu'))\n",
    "model.add(Dense(3, activation='softmax'))\n",
    "\n",
    "# Step 3: Compile the Model\n",
    "model.compile(loss='categorical_crossentropy',optimizer='adam',metrics=['accuracy'])\n",
    "\n",
    "# Step 4: Train the Model\n",
    "model.fit(X_train,y_train,epochs=200,verbose=0)\n",
    "\n",
    "# Step 5: Evaluate the Model\n",
    "loss,accuracy = model.evaluate(X_test,y_test)\n",
    "print(\"Loss = \",loss)\n",
    "print(\"Accuracy \",accuracy)\n"
   ]
  },
  {
   "cell_type": "code",
   "execution_count": null,
   "metadata": {},
   "outputs": [],
   "source": []
  },
  {
   "cell_type": "code",
   "execution_count": null,
   "metadata": {},
   "outputs": [],
   "source": []
  }
 ],
 "metadata": {
  "kernelspec": {
   "display_name": "Python 3",
   "language": "python",
   "name": "python3"
  },
  "language_info": {
   "codemirror_mode": {
    "name": "ipython",
    "version": 3
   },
   "file_extension": ".py",
   "mimetype": "text/x-python",
   "name": "python",
   "nbconvert_exporter": "python",
   "pygments_lexer": "ipython3",
   "version": "3.6.5"
  }
 },
 "nbformat": 4,
 "nbformat_minor": 2
}

{
 "cells": [
  {
   "cell_type": "markdown",
   "metadata": {},
   "source": [
    "# Predictive Modeling for Job Offer"
   ]
  },
  {
   "cell_type": "code",
   "execution_count": null,
   "metadata": {},
   "outputs": [],
   "source": [
    "# Step 0 import libraries\n",
    "\n",
    "import keras\n",
    "from keras.models import Sequential\n",
    "from keras.layers import Dense\n",
    "\n",
    "import pandas as pd\n",
    "from sklearn.preprocessing import MinMaxScaler"
   ]
  },
  {
   "cell_type": "code",
   "execution_count": null,
   "metadata": {},
   "outputs": [],
   "source": [
    "# Step 1 Clean up the data\n",
    "\n",
    "training_data_df = pd.read_csv('./data/offer_training.csv')\n",
    "\n",
    "scaler = MinMaxScaler(feature_range=(0,1))\n",
    "scaled_training = scaler.fit_transform(training_data_df)\n",
    "\n",
    "scaled_training_df=pd.DataFrame(scaled_training,columns=training_data_df.columns.values)\n",
    "\n",
    "# scaled_training_df.head(10)\n",
    "scaled_training_df.to_csv('./data/offer_scaled.csv',index=False)\n",
    "\n",
    "a = scaler.scale_[8]\n",
    "b = scaler.min_[8]\n",
    "\n",
    "# print('Scaled by {:10f} and added by {:6f}'.format(scaler.scale_[8],scaler.min_[8]))\n"
   ]
  },
  {
   "cell_type": "code",
   "execution_count": null,
   "metadata": {},
   "outputs": [],
   "source": [
    "training_data_df"
   ]
  },
  {
   "cell_type": "code",
   "execution_count": 11,
   "metadata": {},
   "outputs": [],
   "source": [
    "X = scaled_training_df.drop('offer',axis=1).values\n",
    "y = scaled_training_df[['offer']].values\n"
   ]
  },
  {
   "cell_type": "code",
   "execution_count": 12,
   "metadata": {},
   "outputs": [],
   "source": [
    "# Step 2 Build the Model\n",
    "\n",
    "model = Sequential()\n",
    "model.add(Dense(50,input_dim=9,activation='relu'))\n",
    "model.add(Dense(100,activation='relu'))\n",
    "model.add(Dense(200,activation='relu'))\n",
    "model.add(Dense(1,activation='linear'))"
   ]
  },
  {
   "cell_type": "code",
   "execution_count": 13,
   "metadata": {},
   "outputs": [],
   "source": [
    "# Step 3 Compile the Model\n",
    "\n",
    "model.compile(loss=\"mean_squared_error\",optimizer=\"adam\")"
   ]
  },
  {
   "cell_type": "code",
   "execution_count": 14,
   "metadata": {},
   "outputs": [
    {
     "name": "stdout",
     "output_type": "stream",
     "text": [
      "Epoch 1/50\n",
      "1000/1000 [==============================] - 0s 299us/step - loss: 0.0233\n",
      "Epoch 2/50\n",
      "1000/1000 [==============================] - 0s 43us/step - loss: 0.0021\n",
      "Epoch 3/50\n",
      "1000/1000 [==============================] - 0s 45us/step - loss: 7.8937e-04\n",
      "Epoch 4/50\n",
      "1000/1000 [==============================] - 0s 40us/step - loss: 3.5654e-04\n",
      "Epoch 5/50\n",
      "1000/1000 [==============================] - 0s 50us/step - loss: 2.0767e-04\n",
      "Epoch 6/50\n",
      "1000/1000 [==============================] - 0s 45us/step - loss: 1.7097e-04\n",
      "Epoch 7/50\n",
      "1000/1000 [==============================] - 0s 45us/step - loss: 1.2935e-04\n",
      "Epoch 8/50\n",
      "1000/1000 [==============================] - 0s 39us/step - loss: 8.8343e-05\n",
      "Epoch 9/50\n",
      "1000/1000 [==============================] - 0s 43us/step - loss: 7.1679e-05\n",
      "Epoch 10/50\n",
      "1000/1000 [==============================] - 0s 48us/step - loss: 6.7516e-05\n",
      "Epoch 11/50\n",
      "1000/1000 [==============================] - 0s 45us/step - loss: 5.1291e-05\n",
      "Epoch 12/50\n",
      "1000/1000 [==============================] - 0s 42us/step - loss: 4.9367e-05\n",
      "Epoch 13/50\n",
      "1000/1000 [==============================] - 0s 40us/step - loss: 4.1997e-05\n",
      "Epoch 14/50\n",
      "1000/1000 [==============================] - 0s 44us/step - loss: 3.5547e-05\n",
      "Epoch 15/50\n",
      "1000/1000 [==============================] - 0s 47us/step - loss: 3.4604e-05\n",
      "Epoch 16/50\n",
      "1000/1000 [==============================] - 0s 44us/step - loss: 4.3729e-05\n",
      "Epoch 17/50\n",
      "1000/1000 [==============================] - 0s 45us/step - loss: 3.5678e-05\n",
      "Epoch 18/50\n",
      "1000/1000 [==============================] - 0s 46us/step - loss: 2.5536e-05\n",
      "Epoch 19/50\n",
      "1000/1000 [==============================] - 0s 42us/step - loss: 3.3858e-05\n",
      "Epoch 20/50\n",
      "1000/1000 [==============================] - 0s 43us/step - loss: 3.2105e-05\n",
      "Epoch 21/50\n",
      "1000/1000 [==============================] - 0s 42us/step - loss: 2.4844e-05\n",
      "Epoch 22/50\n",
      "1000/1000 [==============================] - 0s 43us/step - loss: 2.3860e-05\n",
      "Epoch 23/50\n",
      "1000/1000 [==============================] - 0s 46us/step - loss: 2.6214e-05\n",
      "Epoch 24/50\n",
      "1000/1000 [==============================] - 0s 47us/step - loss: 2.2318e-05\n",
      "Epoch 25/50\n",
      "1000/1000 [==============================] - 0s 47us/step - loss: 2.8385e-05\n",
      "Epoch 26/50\n",
      "1000/1000 [==============================] - 0s 50us/step - loss: 2.7393e-05\n",
      "Epoch 27/50\n",
      "1000/1000 [==============================] - 0s 52us/step - loss: 2.5579e-05\n",
      "Epoch 28/50\n",
      "1000/1000 [==============================] - 0s 49us/step - loss: 2.2716e-05\n",
      "Epoch 29/50\n",
      "1000/1000 [==============================] - 0s 45us/step - loss: 2.9996e-05\n",
      "Epoch 30/50\n",
      "1000/1000 [==============================] - 0s 47us/step - loss: 2.9300e-05\n",
      "Epoch 31/50\n",
      "1000/1000 [==============================] - 0s 46us/step - loss: 2.2461e-05\n",
      "Epoch 32/50\n",
      "1000/1000 [==============================] - 0s 43us/step - loss: 2.1949e-05\n",
      "Epoch 33/50\n",
      "1000/1000 [==============================] - 0s 42us/step - loss: 2.0686e-05\n",
      "Epoch 34/50\n",
      "1000/1000 [==============================] - 0s 45us/step - loss: 2.4265e-05\n",
      "Epoch 35/50\n",
      "1000/1000 [==============================] - 0s 44us/step - loss: 2.9737e-05\n",
      "Epoch 36/50\n",
      "1000/1000 [==============================] - 0s 43us/step - loss: 7.2001e-05\n",
      "Epoch 37/50\n",
      "1000/1000 [==============================] - 0s 42us/step - loss: 3.5677e-05\n",
      "Epoch 38/50\n",
      "1000/1000 [==============================] - 0s 43us/step - loss: 3.1559e-05\n",
      "Epoch 39/50\n",
      "1000/1000 [==============================] - 0s 46us/step - loss: 5.3856e-05\n",
      "Epoch 40/50\n",
      "1000/1000 [==============================] - 0s 45us/step - loss: 3.4778e-05\n",
      "Epoch 41/50\n",
      "1000/1000 [==============================] - 0s 45us/step - loss: 4.8764e-05\n",
      "Epoch 42/50\n",
      "1000/1000 [==============================] - 0s 50us/step - loss: 2.5314e-05\n",
      "Epoch 43/50\n",
      "1000/1000 [==============================] - 0s 43us/step - loss: 2.0452e-05\n",
      "Epoch 44/50\n",
      "1000/1000 [==============================] - 0s 44us/step - loss: 2.0830e-05\n",
      "Epoch 45/50\n",
      "1000/1000 [==============================] - 0s 47us/step - loss: 2.5460e-05\n",
      "Epoch 46/50\n",
      "1000/1000 [==============================] - 0s 46us/step - loss: 2.4867e-05\n",
      "Epoch 47/50\n",
      "1000/1000 [==============================] - 0s 49us/step - loss: 2.0910e-05\n",
      "Epoch 48/50\n",
      "1000/1000 [==============================] - 0s 51us/step - loss: 3.9036e-05\n",
      "Epoch 49/50\n",
      "1000/1000 [==============================] - 0s 43us/step - loss: 3.1348e-05\n",
      "Epoch 50/50\n",
      "1000/1000 [==============================] - 0s 45us/step - loss: 2.5006e-05\n"
     ]
    },
    {
     "data": {
      "text/plain": [
       "<keras.callbacks.History at 0x110e0a6d8>"
      ]
     },
     "execution_count": 14,
     "metadata": {},
     "output_type": "execute_result"
    }
   ],
   "source": [
    "# Step 4: Traing te Model\n",
    "\n",
    "model.fit(X,y,epochs=50,shuffle=True)"
   ]
  },
  {
   "cell_type": "code",
   "execution_count": 18,
   "metadata": {},
   "outputs": [
    {
     "name": "stderr",
     "output_type": "stream",
     "text": [
      "/Library/Frameworks/Python.framework/Versions/3.6/lib/python3.6/site-packages/sklearn/preprocessing/data.py:323: DataConversionWarning: Data with input dtype int64, float64 were all converted to float64 by MinMaxScaler.\n",
      "  return self.partial_fit(X, y)\n"
     ]
    }
   ],
   "source": [
    "# Step 5 Evaluate the Model\n",
    "\n",
    "testing_data_df = pd.read_csv('./data/offer_testing.csv')\n",
    "\n",
    "scaler = MinMaxScaler(feature_range=(0,1))\n",
    "scaled_testing = scaler.fit_transform(testing_data_df)\n",
    "\n",
    "scaled_testing_df=pd.DataFrame(scaled_testing,columns=testing_data_df.columns.values)\n",
    "\n",
    "# scaled_training_df.head(10)\n",
    "scaled_testing_df.to_csv('./data/offer_scaled.csv',index=False)"
   ]
  },
  {
   "cell_type": "code",
   "execution_count": 19,
   "metadata": {},
   "outputs": [
    {
     "name": "stdout",
     "output_type": "stream",
     "text": [
      "400/400 [==============================] - 0s 145us/step\n"
     ]
    },
    {
     "data": {
      "text/plain": [
       "0.0016006229654885829"
      ]
     },
     "execution_count": 19,
     "metadata": {},
     "output_type": "execute_result"
    }
   ],
   "source": [
    "X_test = scaled_testing_df.drop('offer',axis=1).values\n",
    "y_test = scaled_testing_df[['offer']].values\n",
    "\n",
    "model.evaluate(X_test,y_test)"
   ]
  },
  {
   "cell_type": "code",
   "execution_count": null,
   "metadata": {},
   "outputs": [],
   "source": [
    "model.save('happy.h5')"
   ]
  },
  {
   "cell_type": "code",
   "execution_count": null,
   "metadata": {},
   "outputs": [],
   "source": []
  },
  {
   "cell_type": "code",
   "execution_count": 20,
   "metadata": {},
   "outputs": [
    {
     "data": {
      "text/plain": [
       "array([[ 76238.664],\n",
       "       [ 84216.67 ],\n",
       "       [137825.81 ],\n",
       "       [ 93177.17 ],\n",
       "       [104888.47 ],\n",
       "       [ 95704.68 ],\n",
       "       [230069.45 ],\n",
       "       [149101.52 ],\n",
       "       [140168.39 ]], dtype=float32)"
      ]
     },
     "execution_count": 20,
     "metadata": {},
     "output_type": "execute_result"
    }
   ],
   "source": [
    "prediction = model.predict(X_test)\n",
    "prediction = (prediction-b)/a\n",
    "prediction[1:10,:]"
   ]
  },
  {
   "cell_type": "code",
   "execution_count": null,
   "metadata": {},
   "outputs": [],
   "source": [
    "# earning = (0.15944509-(-0.115913))/0.000004\n",
    "earning = (0.15944509-b)/a\n",
    "earning\n",
    "# Scaled by   0.000004 and added by -0.115913"
   ]
  },
  {
   "cell_type": "code",
   "execution_count": null,
   "metadata": {},
   "outputs": [],
   "source": []
  },
  {
   "cell_type": "code",
   "execution_count": null,
   "metadata": {},
   "outputs": [],
   "source": [
    "73960"
   ]
  }
 ],
 "metadata": {
  "kernelspec": {
   "display_name": "Python 3",
   "language": "python",
   "name": "python3"
  },
  "language_info": {
   "codemirror_mode": {
    "name": "ipython",
    "version": 3
   },
   "file_extension": ".py",
   "mimetype": "text/x-python",
   "name": "python",
   "nbconvert_exporter": "python",
   "pygments_lexer": "ipython3",
   "version": "3.6.5"
  }
 },
 "nbformat": 4,
 "nbformat_minor": 2
}

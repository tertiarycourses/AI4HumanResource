{
 "cells": [
  {
   "cell_type": "code",
   "execution_count": 28,
   "metadata": {},
   "outputs": [
    {
     "name": "stderr",
     "output_type": "stream",
     "text": [
      "Using TensorFlow backend.\n"
     ]
    },
    {
     "name": "stdout",
     "output_type": "stream",
     "text": [
      "45/45 [==============================] - 0s 675us/step\n",
      "Accuracy after test is  0.9777777777777777\n"
     ]
    }
   ],
   "source": [
    "#Step 1 Load/Clean up your data\n",
    "\n",
    "import pandas as pd\n",
    "\n",
    "iris = pd.read_csv('iris.csv')\n",
    "iris.head(10)\n",
    "\n",
    "X = iris.drop('species',axis=1).values\n",
    "y = iris[['species']].values\n",
    "\n",
    "# One-hot encoding\n",
    "import numpy as np\n",
    "num_labels = len(np.unique(y))\n",
    "all_Y = np.eye(num_labels)[y]\n",
    "all_Y = np.squeeze(all_Y)\n",
    "\n",
    "# Randomize the data, and split the data to training & testing\n",
    "from sklearn.model_selection import train_test_split\n",
    "\n",
    "X_train,X_test,y_train,y_test = train_test_split(X,all_Y,test_size=0.3)\n",
    "\n",
    "# Step 2: Build Your Model\n",
    "\n",
    "import keras\n",
    "from keras.models import Sequential\n",
    "from keras.layers import Dense\n",
    "\n",
    "model = Sequential()\n",
    "model.add(Dense(20,input_dim=4,activation='relu'))\n",
    "model.add(Dense(10,activation='relu'))\n",
    "model.add(Dense(3,activation='softmax'))\n",
    "\n",
    "# Step 3: Compile Your Model\n",
    "\n",
    "# from keras import optimizers\n",
    "# adam = optimizers.Adam(lr=0.01)\n",
    "\n",
    "model.compile(loss='categorical_crossentropy',optimizer='adam',metrics=['accuracy'])\n",
    "\n",
    "# Step 4: Train the Model\n",
    "\n",
    "model.fit(X_train,y_train,epochs=200,verbose=0)\n",
    "\n",
    "# Step 5: Evaluate the Model\n",
    "\n",
    "loss,accuracy = model.evaluate(X_test,y_test)\n",
    "print('Accuracy after test is ',accuracy)\n",
    "\n",
    "# Step 6: Save Your Model\n",
    "\n"
   ]
  },
  {
   "cell_type": "code",
   "execution_count": 60,
   "metadata": {},
   "outputs": [
    {
     "name": "stdout",
     "output_type": "stream",
     "text": [
      "The prediction is  sentosa\n",
      "The prediction is  versicolor\n"
     ]
    }
   ],
   "source": [
    "# z = np.array([[4.8,3.4,1.9,0.2]])\n",
    "z = np.array([[4.8,3.4,1.9,0.2],[5.7,2.8,4.1,1.3]])\n",
    "# z.shape\n",
    "prediction = model.predict(z)\n",
    "a = np.argmax(prediction,axis=1)\n",
    "\n",
    "decode ={0:'sentosa',1:'versicolor',2:'virgical'}\n",
    "#probability = prediction[:]\n",
    "\n",
    "for i in range(len(a)):\n",
    "    print('The prediction is ',decode[a[i]])\n",
    "# print('with probabiliy of',b)"
   ]
  },
  {
   "cell_type": "code",
   "execution_count": 61,
   "metadata": {},
   "outputs": [],
   "source": [
    "model.save('iris_flower.h5')"
   ]
  },
  {
   "cell_type": "code",
   "execution_count": null,
   "metadata": {},
   "outputs": [],
   "source": []
  }
 ],
 "metadata": {
  "kernelspec": {
   "display_name": "Python 3",
   "language": "python",
   "name": "python3"
  },
  "language_info": {
   "codemirror_mode": {
    "name": "ipython",
    "version": 3
   },
   "file_extension": ".py",
   "mimetype": "text/x-python",
   "name": "python",
   "nbconvert_exporter": "python",
   "pygments_lexer": "ipython3",
   "version": "3.6.5"
  }
 },
 "nbformat": 4,
 "nbformat_minor": 2
}
